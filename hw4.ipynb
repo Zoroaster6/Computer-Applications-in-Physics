{
 "cells": [
  {
   "cell_type": "code",
   "execution_count": null,
   "id": "ddef6c55-2ff2-4e10-ac83-ca75b73e93d3",
   "metadata": {},
   "outputs": [],
   "source": [
    "import numpy as np\n",
    "from scipy.integrate import nquad\n",
    "import matplotlib.pyplot as plt\n",
    "\n",
    "# Constants\n",
    "zeta = 1.5679  # Atomic unit for carbon\n",
    "increment = 0.5\n",
    "Z_range = np.arange(0, 10.5, increment)  # Z values from 0 to 10 with step 0.5\n",
    "\n",
    "# Slater-type orbital function for 2pz\n",
    "def psi_2pz(r, zeta=zeta):\n",
    "    \"\"\"Slater-type orbital for the 2pz orbital.\"\"\"\n",
    "    x, y, z = r\n",
    "    R = np.sqrt(x**2 + y**2 + z**2)\n",
    "    return np.sqrt(zeta**5 / np.pi) * z * np.exp(-zeta * R)\n",
    "\n",
    "# Overlap integral function for two atoms at -R/2 and R/2\n",
    "def integrand(x, y, z, Z):\n",
    "    \"\"\"Integrand for overlap integral.\"\"\"\n",
    "    r1 = (x + Z / 2, y, z)\n",
    "    r2 = (x - Z / 2, y, z)\n",
    "    return psi_2pz(r1) * psi_2pz(r2)\n",
    "\n",
    "def numerical_overlap_integral(Z):\n",
    "    \"\"\"Compute the numerical overlap integral S(R) for a given Z.\"\"\"\n",
    "    result, error = nquad(integrand, [[-10, 10], [-10, 10], [-10, 10]], args=(Z,))\n",
    "    return result\n",
    "\n",
    "# Analytical formula for the overlap integral I(R)\n",
    "def analytical_overlap_integral(Z):\n",
    "    \"\"\"Calculate the analytical formula I(R) for the overlap integral.\"\"\"\n",
    "    R = Z\n",
    "    term1 = (zeta**3 * R**3 + 6 * zeta**2 * R**2 + 15 * zeta * R + 15)\n",
    "    term2 = zeta**2 * Z**2 * (zeta**2 * R**2 + 3 * zeta * R + 3)\n",
    "    return np.exp(-zeta * R) / 15 * (term1 - term2)\n",
    "\n",
    "# Calculate values for S(R) and I(R)\n",
    "numerical_results = [numerical_overlap_integral(Z) for Z in Z_range]\n",
    "analytical_results = [analytical_overlap_integral(Z) for Z in Z_range]\n",
    "\n",
    "# Plot the results\n",
    "plt.figure(figsize=(10, 6))\n",
    "plt.plot(Z_range, numerical_results, label=\"Numerical S(R)\", marker='o')\n",
    "plt.plot(Z_range, analytical_results, label=\"Analytical I(R)\", linestyle='--')\n",
    "plt.xlabel(\"Z\")\n",
    "plt.ylabel(\"Overlap Integral\")\n",
    "plt.legend()\n",
    "plt.title(\"Comparison of Numerical and Analytical Overlap Integrals\")\n",
    "plt.show()\n"
   ]
  },
  {
   "cell_type": "code",
   "execution_count": null,
   "id": "791c4b30-9b06-4099-badd-ea350455488b",
   "metadata": {},
   "outputs": [],
   "source": []
  }
 ],
 "metadata": {
  "kernelspec": {
   "display_name": "Python 3 (ipykernel)",
   "language": "python",
   "name": "python3"
  },
  "language_info": {
   "codemirror_mode": {
    "name": "ipython",
    "version": 3
   },
   "file_extension": ".py",
   "mimetype": "text/x-python",
   "name": "python",
   "nbconvert_exporter": "python",
   "pygments_lexer": "ipython3",
   "version": "3.12.4"
  }
 },
 "nbformat": 4,
 "nbformat_minor": 5
}
